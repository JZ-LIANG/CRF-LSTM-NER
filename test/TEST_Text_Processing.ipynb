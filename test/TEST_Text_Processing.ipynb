{
 "cells": [
  {
   "cell_type": "code",
   "execution_count": 111,
   "metadata": {
    "collapsed": true
   },
   "outputs": [],
   "source": [
    "path_test_conll_file1 = '../data/conll_test_files/Alliance114418822/Alliance114418822_fold1.conll'\n",
    "path_test_conll_file2 = '../data/conll_test_files/stanford_ner_without_start_without_empty_space.tsv'"
   ]
  },
  {
   "cell_type": "code",
   "execution_count": 19,
   "metadata": {},
   "outputs": [
    {
     "name": "stdout",
     "output_type": "stream",
     "text": [
      "\u001b[34mAlliance114418822\u001b[m\u001b[m\r\n",
      "stanford_ner_without_start_without_empty_space.tsv\r\n"
     ]
    }
   ],
   "source": [
    "! ls ../data/conll_test_files/"
   ]
  },
  {
   "cell_type": "code",
   "execution_count": 25,
   "metadata": {},
   "outputs": [
    {
     "name": "stdout",
     "output_type": "stream",
     "text": [
      "At    O\r\n",
      "the    O\r\n",
      "same    O\r\n",
      "time    O\r\n",
      ",    O\r\n",
      "however    O\r\n",
      ",    O\r\n",
      "the    O\r\n",
      "party    O\r\n",
      "did    O\r\n",
      "not    O\r\n",
      "join    O\r\n",
      "its    O\r\n",
      "Warsaw    B-Alliance114418822\r\n",
      "Pact    I-Alliance114418822\r\n",
      "brethren    O\r\n",
      "in    O\r\n",
      "de    O\r\n",
      "-    O\r\n",
      "Stalinization    O\r\n",
      ".    O\r\n",
      "\r\n",
      "On    O\r\n",
      "the    O\r\n",
      "outside    O\r\n",
      "too    O\r\n",
      ",    O\r\n",
      "the    O\r\n",
      "PMR    O\r\n",
      ",    O\r\n",
      "leading    O\r\n",
      "a    O\r\n",
      "country    O\r\n",
      "that    O\r\n",
      "had    O\r\n",
      "joined    O\r\n",
      "the    O\r\n",
      "Warsaw    B-Alliance114418822\r\n",
      "Pact    I-Alliance114418822\r\n",
      ",    O\r\n",
      "remained    O\r\n",
      "an    O\r\n",
      "agent    O\r\n",
      "of    O\r\n",
      "political    O\r\n",
      "repression    O\r\n",
      ":    O\r\n",
      "it    O\r\n",
      "fully    O\r\n",
      "supported    O\r\n"
     ]
    }
   ],
   "source": [
    "# first 10 lines in test file\n",
    "! head -30 ../data/conll_test_files/Alliance114418822/Alliance114418822_fold1.conll"
   ]
  },
  {
   "cell_type": "code",
   "execution_count": 7,
   "metadata": {},
   "outputs": [],
   "source": [
    "import sklearn.preprocessing\n",
    "# import utils\n",
    "import collections\n",
    "import codecs\n",
    "# import utils_nlp\n",
    "import re\n",
    "import time\n",
    "import token\n",
    "import os\n",
    "import pickle\n",
    "import random"
   ]
  },
  {
   "cell_type": "code",
   "execution_count": 152,
   "metadata": {},
   "outputs": [],
   "source": [
    "def CoNLL_Parser1(filepath):\n",
    "    \"\"\"\n",
    "    Need CoNLL file using -DOCSTART- or empty line for sentence sparator\n",
    "    \"\"\"\n",
    "    count_token = collections.Counter()\n",
    "    count_label = collections.Counter()\n",
    "    count_character = collections.Counter()\n",
    "\n",
    "    tokens = []\n",
    "    labels = []\n",
    "    sentence_tokens = []\n",
    "    sentence_labels = []\n",
    "    if filepath:\n",
    "        with open(filepath, 'r') as f:\n",
    "            for line in f:\n",
    "                line = line.strip().replace('    ', '\\t').split('\\t')\n",
    "                \n",
    "                # Save previous sentence at the end of it and start to the next sentence\n",
    "                if len(line) == 0 or len(line[0]) == 0 or '-DOCSTART-' in line[0]:\n",
    "                    if len(sentence_tokens) > 0:\n",
    "                        labels.append(sentence_labels)\n",
    "                        tokens.append(sentence_tokens)\n",
    "                        sentence_tokens = []\n",
    "                        sentence_labels = []\n",
    "                    continue\n",
    "                \n",
    "                token = str(line[0])\n",
    "                label = str(line[-1])\n",
    "                count_token.update({token: 1})\n",
    "                count_label.update({label: 1})               \n",
    "                sentence_tokens.append(token)\n",
    "                sentence_labels.append(label)\n",
    "                for character in token:\n",
    "                    count_character.update({character: 1})\n",
    "\n",
    "            if len(sentence_tokens) > 0:\n",
    "                labels.append(sentence_labels)\n",
    "                tokens.append(sentence_tokens)\n",
    "\n",
    "    return labels, tokens, token_count, label_count, character_count"
   ]
  },
  {
   "cell_type": "code",
   "execution_count": 169,
   "metadata": {
    "collapsed": true
   },
   "outputs": [],
   "source": [
    "labels, tokens, token_count, label_count, character_count = CoNLL_Parser1(path_test_conll_file1)"
   ]
  },
  {
   "cell_type": "code",
   "execution_count": 154,
   "metadata": {},
   "outputs": [
    {
     "data": {
      "text/plain": [
       "['O',\n",
       " 'O',\n",
       " 'O',\n",
       " 'O',\n",
       " 'O',\n",
       " 'O',\n",
       " 'O',\n",
       " 'O',\n",
       " 'O',\n",
       " 'O',\n",
       " 'O',\n",
       " 'O',\n",
       " 'O',\n",
       " 'B-Alliance114418822',\n",
       " 'I-Alliance114418822',\n",
       " 'O',\n",
       " 'O',\n",
       " 'O',\n",
       " 'O',\n",
       " 'O',\n",
       " 'O']"
      ]
     },
     "execution_count": 154,
     "metadata": {},
     "output_type": "execute_result"
    }
   ],
   "source": [
    "labels[0]"
   ]
  },
  {
   "cell_type": "code",
   "execution_count": 155,
   "metadata": {},
   "outputs": [
    {
     "data": {
      "text/plain": [
       "['At',\n",
       " 'the',\n",
       " 'same',\n",
       " 'time',\n",
       " ',',\n",
       " 'however',\n",
       " ',',\n",
       " 'the',\n",
       " 'party',\n",
       " 'did',\n",
       " 'not',\n",
       " 'join',\n",
       " 'its',\n",
       " 'Warsaw',\n",
       " 'Pact',\n",
       " 'brethren',\n",
       " 'in',\n",
       " 'de',\n",
       " '-',\n",
       " 'Stalinization',\n",
       " '.']"
      ]
     },
     "execution_count": 155,
     "metadata": {},
     "output_type": "execute_result"
    }
   ],
   "source": [
    "tokens[0]"
   ]
  },
  {
   "cell_type": "code",
   "execution_count": 163,
   "metadata": {
    "scrolled": true
   },
   "outputs": [
    {
     "data": {
      "text/plain": [
       "collections.defaultdict"
      ]
     },
     "execution_count": 163,
     "metadata": {},
     "output_type": "execute_result"
    }
   ],
   "source": [
    "count_token1 = collections.deque()\n",
    "type(label_count1)"
   ]
  },
  {
   "cell_type": "code",
   "execution_count": 166,
   "metadata": {},
   "outputs": [
    {
     "name": "stdout",
     "output_type": "stream",
     "text": [
      "Collecting collections\n",
      "\u001b[31m  Could not find a version that satisfies the requirement collections (from versions: )\u001b[0m\n",
      "\u001b[31mNo matching distribution found for collections\u001b[0m\n",
      "\u001b[33mYou are using pip version 18.0, however version 18.1 is available.\n",
      "You should consider upgrading via the 'pip install --upgrade pip' command.\u001b[0m\n"
     ]
    }
   ],
   "source": [
    "!pip install collections"
   ]
  },
  {
   "cell_type": "code",
   "execution_count": 171,
   "metadata": {},
   "outputs": [
    {
     "ename": "AttributeError",
     "evalue": "'collections.defaultdict' object has no attribute 'elements'",
     "output_type": "error",
     "traceback": [
      "\u001b[0;31m---------------------------------------------------------------------------\u001b[0m",
      "\u001b[0;31mAttributeError\u001b[0m                            Traceback (most recent call last)",
      "\u001b[0;32m<ipython-input-171-daee49032b9b>\u001b[0m in \u001b[0;36m<module>\u001b[0;34m()\u001b[0m\n\u001b[0;32m----> 1\u001b[0;31m \u001b[0mtoken_count\u001b[0m\u001b[0;34m.\u001b[0m\u001b[0melements\u001b[0m\u001b[0;34m(\u001b[0m\u001b[0;34m)\u001b[0m\u001b[0;34m\u001b[0m\u001b[0m\n\u001b[0m",
      "\u001b[0;31mAttributeError\u001b[0m: 'collections.defaultdict' object has no attribute 'elements'"
     ]
    }
   ],
   "source": [
    "token_count.elements()"
   ]
  },
  {
   "cell_type": "code",
   "execution_count": null,
   "metadata": {
    "collapsed": true
   },
   "outputs": [],
   "source": []
  }
 ],
 "metadata": {
  "kernelspec": {
   "display_name": "Python 3",
   "language": "python",
   "name": "python3"
  },
  "language_info": {
   "codemirror_mode": {
    "name": "ipython",
    "version": 3
   },
   "file_extension": ".py",
   "mimetype": "text/x-python",
   "name": "python",
   "nbconvert_exporter": "python",
   "pygments_lexer": "ipython3",
   "version": "3.6.3"
  }
 },
 "nbformat": 4,
 "nbformat_minor": 2
}

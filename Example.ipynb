{
 "cells": [
  {
   "cell_type": "markdown",
   "metadata": {},
   "source": [
    "# Test on CoNLL 2003"
   ]
  },
  {
   "cell_type": "code",
   "execution_count": 1,
   "metadata": {},
   "outputs": [
    {
     "name": "stderr",
     "output_type": "stream",
     "text": [
      "/Users/liangjianzhong/anaconda3/lib/python3.6/site-packages/h5py/__init__.py:34: FutureWarning: Conversion of the second argument of issubdtype from `float` to `np.floating` is deprecated. In future, it will be treated as `np.float64 == np.dtype(float).type`.\n",
      "  from ._conv import register_converters as _register_converters\n"
     ]
    }
   ],
   "source": [
    "from pre_processing import initial_2idxs, get_inputs\n",
    "from config import Config\n",
    "from model import Model\n",
    "import tensorflow as tf\n",
    "import numpy as np\n",
    "path_train = 'data/CoNLL2003/eng.testb'\n",
    "path_eval = 'data/CoNLL2003/eng.testa'\n",
    "path_test = 'data/CoNLL2003/eng.testb'"
   ]
  },
  {
   "cell_type": "code",
   "execution_count": 2,
   "metadata": {},
   "outputs": [
    {
     "name": "stdout",
     "output_type": "stream",
     "text": [
      "Building vocab...\n",
      "vocabulary for this corpus: 22948 tokens, 85 chars, 8 labels\n",
      "vocabulary construction time:  16.43094554799609\n"
     ]
    }
   ],
   "source": [
    "# prepare input data\n",
    "config = Config()\n",
    "token2idx, char2idx, label2idx, lookup_table = initial_2idxs(config)\n",
    "train_x, train_y = get_inputs('train', token2idx, char2idx, label2idx, config)\n",
    "eval_x, eval_y = get_inputs('eval', token2idx, char2idx, label2idx, config)\n",
    "test_x, test_y = get_inputs('test', token2idx, char2idx, label2idx, config)"
   ]
  },
  {
   "cell_type": "code",
   "execution_count": 3,
   "metadata": {},
   "outputs": [
    {
     "name": "stdout",
     "output_type": "stream",
     "text": [
      "WARNING:tensorflow:From /Users/liangjianzhong/anaconda3/lib/python3.6/site-packages/tensorflow/python/ops/rnn.py:430: calling reverse_sequence (from tensorflow.python.ops.array_ops) with seq_dim is deprecated and will be removed in a future version.\n",
      "Instructions for updating:\n",
      "seq_dim is deprecated, use seq_axis instead\n",
      "WARNING:tensorflow:From /Users/liangjianzhong/anaconda3/lib/python3.6/site-packages/tensorflow/python/util/deprecation.py:454: calling reverse_sequence (from tensorflow.python.ops.array_ops) with batch_dim is deprecated and will be removed in a future version.\n",
      "Instructions for updating:\n",
      "batch_dim is deprecated, use batch_axis instead\n"
     ]
    },
    {
     "name": "stderr",
     "output_type": "stream",
     "text": [
      "/Users/liangjianzhong/anaconda3/lib/python3.6/site-packages/tensorflow/python/ops/gradients_impl.py:108: UserWarning: Converting sparse IndexedSlices to a dense Tensor of unknown shape. This may consume a large amount of memory.\n",
      "  \"Converting sparse IndexedSlices to a dense Tensor of unknown shape. \"\n"
     ]
    },
    {
     "name": "stdout",
     "output_type": "stream",
     "text": [
      "Initializing tf session\n",
      "Epoch 1 out of 5\n",
      "Epoch 1 's F1 =75.03316529583445\n",
      "- new best score!\n",
      "Epoch 2 out of 5\n",
      "Epoch 2 's F1 =82.55297334244702\n",
      "- new best score!\n",
      "Epoch 3 out of 5\n",
      "Epoch 3 's F1 =84.4203205834959\n",
      "- new best score!\n",
      "Epoch 4 out of 5\n",
      "Epoch 4 's F1 =87.07845836200963\n",
      "- new best score!\n",
      "Epoch 5 out of 5\n",
      "Epoch 5 's F1 =87.78457356439007\n",
      "- new best score!\n"
     ]
    }
   ],
   "source": [
    "# train\n",
    "ner_model = Model(config)\n",
    "tf.reset_default_graph()\n",
    "ner_model.build_graph()\n",
    "ner_model.initialize_session()\n",
    "ner_model.train(train_x,train_y,eval_x,eval_y)"
   ]
  },
  {
   "cell_type": "code",
   "execution_count": 4,
   "metadata": {},
   "outputs": [
    {
     "name": "stdout",
     "output_type": "stream",
     "text": [
      "processed 203622 tokens with 23499 phrases; found: 23278 phrases; correct: 21624.\n",
      "accuracy:  98.61%; precision:  92.89%; recall:  92.02%; FB1:  92.46\n",
      "              LOC: precision:  92.72%; recall:  95.95%; FB1:  94.31  7389\n",
      "             MISC: precision:  89.74%; recall:  83.42%; FB1:  86.46  3196\n",
      "              ORG: precision:  90.06%; recall:  87.28%; FB1:  88.65  6126\n",
      "              PER: precision:  97.27%; recall:  96.79%; FB1:  97.03  6567\n",
      "\n",
      "\n"
     ]
    }
   ],
   "source": [
    "ner_model.test(train_x,train_y,config.path_output_train, config.path_result_train)"
   ]
  },
  {
   "cell_type": "code",
   "execution_count": 5,
   "metadata": {},
   "outputs": [
    {
     "name": "stdout",
     "output_type": "stream",
     "text": [
      "processed 51363 tokens with 5942 phrases; found: 5861 phrases; correct: 5168.\n",
      "accuracy:  97.57%; precision:  88.18%; recall:  86.97%; FB1:  87.57\n",
      "              LOC: precision:  90.14%; recall:  93.03%; FB1:  91.56  1896\n",
      "             MISC: precision:  80.07%; recall:  74.08%; FB1:  76.96  853\n",
      "              ORG: precision:  82.42%; recall:  77.63%; FB1:  79.95  1263\n",
      "              PER: precision:  93.83%; recall:  94.19%; FB1:  94.01  1849\n",
      "\n",
      "\n"
     ]
    }
   ],
   "source": [
    "ner_model.test(eval_x,eval_y,config.path_output_eval, config.path_result_eval)"
   ]
  },
  {
   "cell_type": "code",
   "execution_count": 6,
   "metadata": {},
   "outputs": [
    {
     "name": "stdout",
     "output_type": "stream",
     "text": [
      "processed 46436 tokens with 5648 phrases; found: 5553 phrases; correct: 4686.\n",
      "accuracy:  96.63%; precision:  84.39%; recall:  82.97%; FB1:  83.67\n",
      "              LOC: precision:  82.84%; recall:  89.75%; FB1:  86.16  1807\n",
      "             MISC: precision:  73.39%; recall:  68.38%; FB1:  70.80  654\n",
      "              ORG: precision:  81.32%; recall:  74.71%; FB1:  77.88  1526\n",
      "              PER: precision:  93.74%; recall:  90.79%; FB1:  92.24  1566\n",
      "\n",
      "\n"
     ]
    }
   ],
   "source": [
    "ner_model.test(test_x,test_y,config.path_output_test, config.path_result_test)"
   ]
  }
 ],
 "metadata": {
  "kernelspec": {
   "display_name": "Python 3",
   "language": "python",
   "name": "python3"
  },
  "language_info": {
   "codemirror_mode": {
    "name": "ipython",
    "version": 3
   },
   "file_extension": ".py",
   "mimetype": "text/x-python",
   "name": "python",
   "nbconvert_exporter": "python",
   "pygments_lexer": "ipython3",
   "version": "3.6.3"
  }
 },
 "nbformat": 4,
 "nbformat_minor": 2
}
